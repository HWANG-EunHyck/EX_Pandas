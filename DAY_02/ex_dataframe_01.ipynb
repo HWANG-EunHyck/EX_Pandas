{
 "cells": [
  {
   "cell_type": "markdown",
   "metadata": {},
   "source": [
    "### DataFrame 살펴보기\n",
    "- 판다스에서 데이터를 저장하는 자료형\n",
    "- 구성 : 2차원 데이터를 저장 인덱스 + 열이름 + 데이터\n",
    "- 형식 : pandas.DataFrame(2D데이터)"
   ]
  },
  {
   "cell_type": "code",
   "execution_count": 42,
   "metadata": {},
   "outputs": [],
   "source": [
    "import pandas as pd"
   ]
  },
  {
   "cell_type": "code",
   "execution_count": 43,
   "metadata": {},
   "outputs": [],
   "source": [
    "# 데이터 준비\n",
    "jumsu = [[98,11,45],[34,77,90]]"
   ]
  },
  {
   "cell_type": "code",
   "execution_count": 44,
   "metadata": {},
   "outputs": [],
   "source": [
    "# DF으로 데이터 저장하기\n",
    "jumsuDF =pd.DataFrame(jumsu)"
   ]
  },
  {
   "cell_type": "code",
   "execution_count": 45,
   "metadata": {},
   "outputs": [
    {
     "name": "stdout",
     "output_type": "stream",
     "text": [
      "    0   1   2\n",
      "0  98  11  45\n",
      "1  34  77  90\n"
     ]
    }
   ],
   "source": [
    "# DF로 저장된 데이터 확인\n",
    "print(jumsuDF)"
   ]
  },
  {
   "cell_type": "code",
   "execution_count": 46,
   "metadata": {},
   "outputs": [
    {
     "name": "stdout",
     "output_type": "stream",
     "text": [
      "RangeIndex(start=0, stop=2, step=1)\n",
      "RangeIndex(start=0, stop=3, step=1)\n",
      "[[98 11 45]\n",
      " [34 77 90]]\n",
      "0    int64\n",
      "1    int64\n",
      "2    int64\n",
      "dtype: object\n",
      "<class 'pandas.core.series.Series'>\n",
      "2\n",
      "(2, 3)\n"
     ]
    }
   ],
   "source": [
    "## DF 속성 읽기\n",
    "## - index,columns,values,ndim,dtypes\n",
    "print(jumsuDF.index)\n",
    "print(jumsuDF.columns)\n",
    "print(jumsuDF.values)\n",
    "print(jumsuDF.dtypes) # 컬럼 기준으로 알려줌\n",
    "print(type(jumsuDF.dtypes))\n",
    "print(jumsuDF.ndim)\n",
    "print(jumsuDF.shape)"
   ]
  },
  {
   "cell_type": "code",
   "execution_count": 47,
   "metadata": {},
   "outputs": [
    {
     "name": "stdout",
     "output_type": "stream",
     "text": [
      "98\n",
      "11\n",
      "45\n",
      "34\n",
      "77\n",
      "90\n"
     ]
    }
   ],
   "source": [
    "## DF안에 잇는 모든 원소를 하나씩 출력하세요\n",
    "for i in range(jumsuDF.shape[0]):       # range(0,2,1)\n",
    "    for j in range(jumsuDF.shape[1]): # range(0,3,1)\n",
    "            print(jumsuDF.iloc[i,j])"
   ]
  },
  {
   "cell_type": "code",
   "execution_count": 52,
   "metadata": {},
   "outputs": [
    {
     "name": "stdout",
     "output_type": "stream",
     "text": [
      "   국어  과학  미술\n",
      "A  98  11  45\n",
      "B  34  77  90\n"
     ]
    }
   ],
   "source": [
    "index_value=['A','B']\n",
    "columns_values = ['국어','과학','미술']\n",
    "df2 = pd.DataFrame(jumsu,index = index_value,columns=columns_values)\n",
    "# 데이터 저장된 DF 확인\n",
    "\n",
    "print(df2)"
   ]
  },
  {
   "cell_type": "code",
   "execution_count": 53,
   "metadata": {},
   "outputs": [
    {
     "name": "stdout",
     "output_type": "stream",
     "text": [
      "Index(['A', 'B'], dtype='object')\n",
      "<class 'pandas.core.indexes.base.Index'>\n"
     ]
    }
   ],
   "source": [
    "# DF 인덱스 속성 읽기 ==> 변수명.index\n",
    "print(df2.index,type(df2.index),sep='\\n')"
   ]
  },
  {
   "cell_type": "code",
   "execution_count": 54,
   "metadata": {},
   "outputs": [
    {
     "name": "stdout",
     "output_type": "stream",
     "text": [
      "Index(['국어', '과학', '미술'], dtype='object')\n",
      "<class 'pandas.core.indexes.base.Index'>\n"
     ]
    }
   ],
   "source": [
    "# DF 인덱스 속성 읽기 ==> 변수명.columns\n",
    "print(df2.columns,type(df2.columns),sep='\\n')"
   ]
  }
 ],
 "metadata": {
  "kernelspec": {
   "display_name": "py_39",
   "language": "python",
   "name": "python3"
  },
  "language_info": {
   "codemirror_mode": {
    "name": "ipython",
    "version": 3
   },
   "file_extension": ".py",
   "mimetype": "text/x-python",
   "name": "python",
   "nbconvert_exporter": "python",
   "pygments_lexer": "ipython3",
   "version": "3.9.19"
  }
 },
 "nbformat": 4,
 "nbformat_minor": 2
}
