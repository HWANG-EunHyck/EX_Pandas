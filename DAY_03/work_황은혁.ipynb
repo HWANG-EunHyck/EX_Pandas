{
 "cells": [
  {
   "cell_type": "code",
   "execution_count": 1,
   "metadata": {},
   "outputs": [],
   "source": [
    "import pandas as pd"
   ]
  },
  {
   "cell_type": "code",
   "execution_count": 2,
   "metadata": {},
   "outputs": [
    {
     "name": "stdout",
     "output_type": "stream",
     "text": [
      "0    banana\n",
      "1        42\n",
      "dtype: object\n"
     ]
    }
   ],
   "source": [
    "s = pd.Series(['banana',42])\n",
    "print(s)"
   ]
  },
  {
   "cell_type": "code",
   "execution_count": 3,
   "metadata": {},
   "outputs": [
    {
     "name": "stdout",
     "output_type": "stream",
     "text": [
      "person     www\n",
      "who       cccc\n",
      "dtype: object\n"
     ]
    }
   ],
   "source": [
    "s = pd.Series(data= ['www','cccc'],index =['person','who'])\n",
    "print(s)"
   ]
  },
  {
   "cell_type": "code",
   "execution_count": 6,
   "metadata": {},
   "outputs": [
    {
     "name": "stdout",
     "output_type": "stream",
     "text": [
      "                name    occupation        born        died  Age\n",
      "0  rosaline franklin       chemist  1920-07-25  1958-04-16   37\n",
      "1     william gosset  statistician  1876-06-13  1937-10-16   61\n"
     ]
    }
   ],
   "source": [
    "scientists = pd.DataFrame({\n",
    "    'name' : ['rosaline franklin','william gosset'],\n",
    "    'occupation':['chemist','statistician'],\n",
    "    'born' : ['1920-07-25','1876-06-13'],\n",
    "    'died' : ['1958-04-16','1937-10-16'],\n",
    "    'Age':[37,61],\n",
    "})\n",
    "print(scientists)"
   ]
  },
  {
   "cell_type": "code",
   "execution_count": 9,
   "metadata": {},
   "outputs": [],
   "source": [
    "scientists = pd.DataFrame(\n",
    "    data = {\n",
    "    'occupation':['chemist','statistician'],\n",
    "    'born' : ['1920-07-25','1876-06-13'],\n",
    "    'died' : ['1958-04-16','1937-10-16'],\n",
    "    'Age':[37,61]\n",
    "    },\n",
    "    index = ['rosaline franklin','william gosset'],\n",
    "    columns= ['occupation','born','died','Age'],\n",
    ")"
   ]
  },
  {
   "cell_type": "code",
   "execution_count": 10,
   "metadata": {},
   "outputs": [
    {
     "name": "stdout",
     "output_type": "stream",
     "text": [
      "                     occupation        born        died  Age\n",
      "rosaline franklin       chemist  1920-07-25  1958-04-16   37\n",
      "william gosset     statistician  1876-06-13  1937-10-16   61\n"
     ]
    }
   ],
   "source": [
    "print(scientists)"
   ]
  },
  {
   "cell_type": "code",
   "execution_count": null,
   "metadata": {},
   "outputs": [],
   "source": []
  }
 ],
 "metadata": {
  "kernelspec": {
   "display_name": "py_39",
   "language": "python",
   "name": "python3"
  },
  "language_info": {
   "codemirror_mode": {
    "name": "ipython",
    "version": 3
   },
   "file_extension": ".py",
   "mimetype": "text/x-python",
   "name": "python",
   "nbconvert_exporter": "python",
   "pygments_lexer": "ipython3",
   "version": "3.9.19"
  }
 },
 "nbformat": 4,
 "nbformat_minor": 2
}
