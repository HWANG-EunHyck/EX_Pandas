{
 "cells": [
  {
   "cell_type": "markdown",
   "metadata": {},
   "source": [
    "#### [ 시도별 전출입 인구수 분석  - Matplotlib ]\n",
    "- 데이터셋 : 1970년 ~ 2017년까지 인구이동수\n",
    "- 대구의 타지역 이동 인구수 분석\n",
    "- 전국의 인구 이동수에 대한 분석\n",
    "- 과정\n",
    "    * 데이터파일 확인 \n",
    "        - 첫번째 줄이 컬럼명이 맞는지 확인 \n",
    "        - 불필요한 컬럼이나 행이 있는지 확인\n",
    "        - 결측지 정도 확인\n",
    "    * 전처리 : 데이터 정리 및 손질\n",
    "        - 파일 확인 후 체크한 사항 진행\n",
    "        - 결측치 처리 \n",
    "        - 이상치 처리\n",
    "        - 중복데이터 처리\n",
    "        - 형변환 : 실제 데이터와 타입 일치\n",
    "    * 데이터 가공 : 분석하고자하는 데이터 형태\n",
    "        - 행인덱스 처리 : 멀티인덱스/컬럼 => 행인덱스/행인덱스 초기화\n",
    "        - 필요한 컬럼 & 행 추출\n",
    "        - 추가적인 결측치/이상치/중복데이터 처리\n",
    "        - 형변환 : 연속 -> 범주 / 범주 -> 연속\n",
    "    * 데이터 분석\n",
    "        - 탐색적 분석 : 주어진 데이터를 기반으로 의미를 찾아내는 것\n",
    "        - 시각화 및 분석 결과 텍스트 요약 정리\n"
   ]
  },
  {
   "cell_type": "markdown",
   "metadata": {},
   "source": [
    "- [1] 준비과정 : 모듈,데이터\n"
   ]
  },
  {
   "cell_type": "code",
   "execution_count": 249,
   "metadata": {},
   "outputs": [],
   "source": [
    "# [1-1]\n",
    "import pandas as pd                    # 데이터분석용 모듈\n",
    "import matplotlib.pyplot as plt        # 데이터 시각화용 모듈"
   ]
  },
  {
   "cell_type": "code",
   "execution_count": 250,
   "metadata": {},
   "outputs": [],
   "source": [
    "# [1-2] \n",
    "F_DATA = r'C:\\Users\\a\\Desktop\\EX_PANDAS\\data\\시도별 전출입 인구수.xlsx'"
   ]
  },
  {
   "cell_type": "code",
   "execution_count": 251,
   "metadata": {},
   "outputs": [],
   "source": [
    "# [1-3] \n",
    "dataDF = pd.read_excel(F_DATA)"
   ]
  },
  {
   "cell_type": "markdown",
   "metadata": {},
   "source": [
    "- [2] 데이터 확인 : 행과 컬럼수, 실제데이터와 컬럼 타입, 결측치 체크"
   ]
  },
  {
   "cell_type": "code",
   "execution_count": 252,
   "metadata": {},
   "outputs": [
    {
     "name": "stdout",
     "output_type": "stream",
     "text": [
      "<class 'pandas.core.frame.DataFrame'>\n",
      "RangeIndex: 325 entries, 0 to 324\n",
      "Data columns (total 50 columns):\n",
      " #   Column  Non-Null Count  Dtype \n",
      "---  ------  --------------  ----- \n",
      " 0   전출지별    18 non-null     object\n",
      " 1   전입지별    324 non-null    object\n",
      " 2   1970    325 non-null    object\n",
      " 3   1971    325 non-null    object\n",
      " 4   1972    325 non-null    object\n",
      " 5   1973    325 non-null    object\n",
      " 6   1974    325 non-null    object\n",
      " 7   1975    325 non-null    object\n",
      " 8   1976    325 non-null    object\n",
      " 9   1977    325 non-null    object\n",
      " 10  1978    325 non-null    object\n",
      " 11  1979    325 non-null    object\n",
      " 12  1980    325 non-null    object\n",
      " 13  1981    325 non-null    object\n",
      " 14  1982    325 non-null    object\n",
      " 15  1983    325 non-null    object\n",
      " 16  1984    322 non-null    object\n",
      " 17  1985    322 non-null    object\n",
      " 18  1986    322 non-null    object\n",
      " 19  1987    325 non-null    object\n",
      " 20  1988    325 non-null    object\n",
      " 21  1989    325 non-null    object\n",
      " 22  1990    325 non-null    object\n",
      " 23  1991    325 non-null    object\n",
      " 24  1992    325 non-null    object\n",
      " 25  1993    325 non-null    object\n",
      " 26  1994    325 non-null    object\n",
      " 27  1995    325 non-null    object\n",
      " 28  1996    325 non-null    object\n",
      " 29  1997    325 non-null    object\n",
      " 30  1998    325 non-null    object\n",
      " 31  1999    325 non-null    object\n",
      " 32  2000    325 non-null    object\n",
      " 33  2001    325 non-null    object\n",
      " 34  2002    325 non-null    object\n",
      " 35  2003    325 non-null    object\n",
      " 36  2004    325 non-null    object\n",
      " 37  2005    325 non-null    object\n",
      " 38  2006    325 non-null    object\n",
      " 39  2007    325 non-null    object\n",
      " 40  2008    325 non-null    object\n",
      " 41  2009    325 non-null    object\n",
      " 42  2010    325 non-null    object\n",
      " 43  2011    325 non-null    object\n",
      " 44  2012    325 non-null    object\n",
      " 45  2013    325 non-null    object\n",
      " 46  2014    325 non-null    object\n",
      " 47  2015    325 non-null    object\n",
      " 48  2016    325 non-null    object\n",
      " 49  2017    325 non-null    object\n",
      "dtypes: object(50)\n",
      "memory usage: 127.1+ KB\n"
     ]
    }
   ],
   "source": [
    "# [2-1] 기본정보 확인 => info(),describe()\n",
    "# - 행 수 , 컬럼 수, 컬럼별 결측치 아닌(non-null) 데이터 수, 데이터 타입\n",
    "# - 메모리 사용량\n",
    "dataDF.info()"
   ]
  },
  {
   "cell_type": "code",
   "execution_count": 253,
   "metadata": {},
   "outputs": [
    {
     "data": {
      "text/html": [
       "<div>\n",
       "<style scoped>\n",
       "    .dataframe tbody tr th:only-of-type {\n",
       "        vertical-align: middle;\n",
       "    }\n",
       "\n",
       "    .dataframe tbody tr th {\n",
       "        vertical-align: top;\n",
       "    }\n",
       "\n",
       "    .dataframe thead th {\n",
       "        text-align: right;\n",
       "    }\n",
       "</style>\n",
       "<table border=\"1\" class=\"dataframe\">\n",
       "  <thead>\n",
       "    <tr style=\"text-align: right;\">\n",
       "      <th></th>\n",
       "      <th>전출지별</th>\n",
       "      <th>전입지별</th>\n",
       "      <th>1970</th>\n",
       "      <th>1971</th>\n",
       "      <th>1972</th>\n",
       "      <th>1973</th>\n",
       "      <th>1974</th>\n",
       "      <th>1975</th>\n",
       "      <th>1976</th>\n",
       "      <th>1977</th>\n",
       "      <th>...</th>\n",
       "      <th>2008</th>\n",
       "      <th>2009</th>\n",
       "      <th>2010</th>\n",
       "      <th>2011</th>\n",
       "      <th>2012</th>\n",
       "      <th>2013</th>\n",
       "      <th>2014</th>\n",
       "      <th>2015</th>\n",
       "      <th>2016</th>\n",
       "      <th>2017</th>\n",
       "    </tr>\n",
       "  </thead>\n",
       "  <tbody>\n",
       "    <tr>\n",
       "      <th>count</th>\n",
       "      <td>18</td>\n",
       "      <td>324</td>\n",
       "      <td>325</td>\n",
       "      <td>325</td>\n",
       "      <td>325</td>\n",
       "      <td>325</td>\n",
       "      <td>325</td>\n",
       "      <td>325</td>\n",
       "      <td>325</td>\n",
       "      <td>325</td>\n",
       "      <td>...</td>\n",
       "      <td>325</td>\n",
       "      <td>325</td>\n",
       "      <td>325</td>\n",
       "      <td>325</td>\n",
       "      <td>325</td>\n",
       "      <td>325</td>\n",
       "      <td>325</td>\n",
       "      <td>325</td>\n",
       "      <td>325</td>\n",
       "      <td>325</td>\n",
       "    </tr>\n",
       "    <tr>\n",
       "      <th>unique</th>\n",
       "      <td>18</td>\n",
       "      <td>18</td>\n",
       "      <td>146</td>\n",
       "      <td>146</td>\n",
       "      <td>146</td>\n",
       "      <td>146</td>\n",
       "      <td>145</td>\n",
       "      <td>146</td>\n",
       "      <td>146</td>\n",
       "      <td>146</td>\n",
       "      <td>...</td>\n",
       "      <td>289</td>\n",
       "      <td>289</td>\n",
       "      <td>289</td>\n",
       "      <td>291</td>\n",
       "      <td>323</td>\n",
       "      <td>320</td>\n",
       "      <td>321</td>\n",
       "      <td>324</td>\n",
       "      <td>322</td>\n",
       "      <td>323</td>\n",
       "    </tr>\n",
       "    <tr>\n",
       "      <th>top</th>\n",
       "      <td>전국</td>\n",
       "      <td>전국</td>\n",
       "      <td>-</td>\n",
       "      <td>-</td>\n",
       "      <td>-</td>\n",
       "      <td>-</td>\n",
       "      <td>-</td>\n",
       "      <td>-</td>\n",
       "      <td>-</td>\n",
       "      <td>-</td>\n",
       "      <td>...</td>\n",
       "      <td>-</td>\n",
       "      <td>-</td>\n",
       "      <td>-</td>\n",
       "      <td>-</td>\n",
       "      <td>1489</td>\n",
       "      <td>1939</td>\n",
       "      <td>2026</td>\n",
       "      <td>1468</td>\n",
       "      <td>4303</td>\n",
       "      <td>947</td>\n",
       "    </tr>\n",
       "    <tr>\n",
       "      <th>freq</th>\n",
       "      <td>1</td>\n",
       "      <td>18</td>\n",
       "      <td>180</td>\n",
       "      <td>180</td>\n",
       "      <td>180</td>\n",
       "      <td>180</td>\n",
       "      <td>180</td>\n",
       "      <td>180</td>\n",
       "      <td>180</td>\n",
       "      <td>180</td>\n",
       "      <td>...</td>\n",
       "      <td>35</td>\n",
       "      <td>35</td>\n",
       "      <td>35</td>\n",
       "      <td>35</td>\n",
       "      <td>2</td>\n",
       "      <td>2</td>\n",
       "      <td>2</td>\n",
       "      <td>2</td>\n",
       "      <td>2</td>\n",
       "      <td>2</td>\n",
       "    </tr>\n",
       "  </tbody>\n",
       "</table>\n",
       "<p>4 rows × 50 columns</p>\n",
       "</div>"
      ],
      "text/plain": [
       "       전출지별 전입지별 1970 1971 1972 1973 1974 1975 1976 1977  ... 2008 2009 2010  \\\n",
       "count    18  324  325  325  325  325  325  325  325  325  ...  325  325  325   \n",
       "unique   18   18  146  146  146  146  145  146  146  146  ...  289  289  289   \n",
       "top      전국   전국    -    -    -    -    -    -    -    -  ...    -    -    -   \n",
       "freq      1   18  180  180  180  180  180  180  180  180  ...   35   35   35   \n",
       "\n",
       "       2011  2012  2013  2014  2015  2016 2017  \n",
       "count   325   325   325   325   325   325  325  \n",
       "unique  291   323   320   321   324   322  323  \n",
       "top       -  1489  1939  2026  1468  4303  947  \n",
       "freq     35     2     2     2     2     2    2  \n",
       "\n",
       "[4 rows x 50 columns]"
      ]
     },
     "execution_count": 253,
     "metadata": {},
     "output_type": "execute_result"
    }
   ],
   "source": [
    "# [2-2] 기본정보 확인 => info(),describe()\n",
    "# - 수치 데이터 컬럼의 데이터 분포 확인 : 최대값, 최소값 ,표준편차,사분위수,평균값\n",
    "# - 범주 데이터 컬럼의 데이터 분포 확인 : 고유값, 가장 많이 나온 값, 가장 많이 나온 값의 빈도수\n",
    "dataDF.describe(include='all')"
   ]
  },
  {
   "cell_type": "code",
   "execution_count": 254,
   "metadata": {},
   "outputs": [
    {
     "data": {
      "text/html": [
       "<div>\n",
       "<style scoped>\n",
       "    .dataframe tbody tr th:only-of-type {\n",
       "        vertical-align: middle;\n",
       "    }\n",
       "\n",
       "    .dataframe tbody tr th {\n",
       "        vertical-align: top;\n",
       "    }\n",
       "\n",
       "    .dataframe thead th {\n",
       "        text-align: right;\n",
       "    }\n",
       "</style>\n",
       "<table border=\"1\" class=\"dataframe\">\n",
       "  <thead>\n",
       "    <tr style=\"text-align: right;\">\n",
       "      <th></th>\n",
       "      <th>전출지별</th>\n",
       "      <th>전입지별</th>\n",
       "      <th>1970</th>\n",
       "      <th>1971</th>\n",
       "      <th>1972</th>\n",
       "      <th>1973</th>\n",
       "      <th>1974</th>\n",
       "      <th>1975</th>\n",
       "      <th>1976</th>\n",
       "      <th>1977</th>\n",
       "      <th>...</th>\n",
       "      <th>2008</th>\n",
       "      <th>2009</th>\n",
       "      <th>2010</th>\n",
       "      <th>2011</th>\n",
       "      <th>2012</th>\n",
       "      <th>2013</th>\n",
       "      <th>2014</th>\n",
       "      <th>2015</th>\n",
       "      <th>2016</th>\n",
       "      <th>2017</th>\n",
       "    </tr>\n",
       "  </thead>\n",
       "  <tbody>\n",
       "    <tr>\n",
       "      <th>0</th>\n",
       "      <td>NaN</td>\n",
       "      <td>NaN</td>\n",
       "      <td>이동자수 (명)</td>\n",
       "      <td>이동자수 (명)</td>\n",
       "      <td>이동자수 (명)</td>\n",
       "      <td>이동자수 (명)</td>\n",
       "      <td>이동자수 (명)</td>\n",
       "      <td>이동자수 (명)</td>\n",
       "      <td>이동자수 (명)</td>\n",
       "      <td>이동자수 (명)</td>\n",
       "      <td>...</td>\n",
       "      <td>이동자수 (명)</td>\n",
       "      <td>이동자수 (명)</td>\n",
       "      <td>이동자수 (명)</td>\n",
       "      <td>이동자수 (명)</td>\n",
       "      <td>이동자수 (명)</td>\n",
       "      <td>이동자수 (명)</td>\n",
       "      <td>이동자수 (명)</td>\n",
       "      <td>이동자수 (명)</td>\n",
       "      <td>이동자수 (명)</td>\n",
       "      <td>이동자수 (명)</td>\n",
       "    </tr>\n",
       "    <tr>\n",
       "      <th>1</th>\n",
       "      <td>전국</td>\n",
       "      <td>전국</td>\n",
       "      <td>4046536</td>\n",
       "      <td>4210164</td>\n",
       "      <td>3687938</td>\n",
       "      <td>4860418</td>\n",
       "      <td>5297969</td>\n",
       "      <td>9011440</td>\n",
       "      <td>6773250</td>\n",
       "      <td>7397623</td>\n",
       "      <td>...</td>\n",
       "      <td>8808256</td>\n",
       "      <td>8487275</td>\n",
       "      <td>8226594</td>\n",
       "      <td>8127195</td>\n",
       "      <td>7506691</td>\n",
       "      <td>7411784</td>\n",
       "      <td>7629098</td>\n",
       "      <td>7755286</td>\n",
       "      <td>7378430</td>\n",
       "      <td>7154226</td>\n",
       "    </tr>\n",
       "    <tr>\n",
       "      <th>2</th>\n",
       "      <td>NaN</td>\n",
       "      <td>서울특별시</td>\n",
       "      <td>1742813</td>\n",
       "      <td>1671705</td>\n",
       "      <td>1349333</td>\n",
       "      <td>1831858</td>\n",
       "      <td>2050392</td>\n",
       "      <td>3396662</td>\n",
       "      <td>2756510</td>\n",
       "      <td>2893403</td>\n",
       "      <td>...</td>\n",
       "      <td>2025358</td>\n",
       "      <td>1873188</td>\n",
       "      <td>1733015</td>\n",
       "      <td>1721748</td>\n",
       "      <td>1555281</td>\n",
       "      <td>1520090</td>\n",
       "      <td>1573594</td>\n",
       "      <td>1589431</td>\n",
       "      <td>1515602</td>\n",
       "      <td>1472937</td>\n",
       "    </tr>\n",
       "  </tbody>\n",
       "</table>\n",
       "<p>3 rows × 50 columns</p>\n",
       "</div>"
      ],
      "text/plain": [
       "  전출지별   전입지별      1970      1971      1972      1973      1974      1975  \\\n",
       "0  NaN    NaN  이동자수 (명)  이동자수 (명)  이동자수 (명)  이동자수 (명)  이동자수 (명)  이동자수 (명)   \n",
       "1   전국     전국   4046536   4210164   3687938   4860418   5297969   9011440   \n",
       "2  NaN  서울특별시   1742813   1671705   1349333   1831858   2050392   3396662   \n",
       "\n",
       "       1976      1977  ...      2008      2009      2010      2011      2012  \\\n",
       "0  이동자수 (명)  이동자수 (명)  ...  이동자수 (명)  이동자수 (명)  이동자수 (명)  이동자수 (명)  이동자수 (명)   \n",
       "1   6773250   7397623  ...   8808256   8487275   8226594   8127195   7506691   \n",
       "2   2756510   2893403  ...   2025358   1873188   1733015   1721748   1555281   \n",
       "\n",
       "       2013      2014      2015      2016      2017  \n",
       "0  이동자수 (명)  이동자수 (명)  이동자수 (명)  이동자수 (명)  이동자수 (명)  \n",
       "1   7411784   7629098   7755286   7378430   7154226  \n",
       "2   1520090   1573594   1589431   1515602   1472937  \n",
       "\n",
       "[3 rows x 50 columns]"
      ]
     },
     "execution_count": 254,
     "metadata": {},
     "output_type": "execute_result"
    }
   ],
   "source": [
    "# [2-3] 실제데이터 info()에서 확인 한 타입 비교 => head()/tail()\n",
    "dataDF.head(3)\n"
   ]
  },
  {
   "cell_type": "code",
   "execution_count": 255,
   "metadata": {},
   "outputs": [],
   "source": [
    "### 기본 정보 확인 후 결과\n",
    "# - 불필요한 행/컬럼 : 0번행 삭제\n",
    "# - 결측치 : '전출지별' 컬럼 ==> 이전 행 값으로 채우기 \n",
    "# - 이상치 : 행별로 '-'값이 수치값과 섞여 있음 ==> 0 처리 필요!"
   ]
  },
  {
   "cell_type": "markdown",
   "metadata": {},
   "source": [
    "- [3] 데이터 전처리\n",
    "    * 기본확인 파악된 내용들 처리\n",
    "    * 불필요 데이터 삭제 : 0번행 삭제\n",
    "    * 결측치 데이터 처리 : '전출지별'컬럼 처리\n",
    "    * 이상치 데이터 처리 : '-'에 대한 처리\n",
    "    * 데이터 자료형 일치 : 형변환"
   ]
  },
  {
   "cell_type": "code",
   "execution_count": 256,
   "metadata": {},
   "outputs": [],
   "source": [
    "# [3-1] 불필요 데이터 처리\n",
    "dataDF.drop(index = 0,axis=0,inplace=True)"
   ]
  },
  {
   "cell_type": "code",
   "execution_count": 257,
   "metadata": {},
   "outputs": [
    {
     "data": {
      "text/plain": [
       "전출지별    306\n",
       "전입지별      0\n",
       "1970      0\n",
       "1971      0\n",
       "1972      0\n",
       "1973      0\n",
       "1974      0\n",
       "1975      0\n",
       "1976      0\n",
       "1977      0\n",
       "1978      0\n",
       "1979      0\n",
       "1980      0\n",
       "1981      0\n",
       "1982      0\n",
       "1983      0\n",
       "1984      3\n",
       "1985      3\n",
       "1986      3\n",
       "1987      0\n",
       "1988      0\n",
       "1989      0\n",
       "1990      0\n",
       "1991      0\n",
       "1992      0\n",
       "1993      0\n",
       "1994      0\n",
       "1995      0\n",
       "1996      0\n",
       "1997      0\n",
       "1998      0\n",
       "1999      0\n",
       "2000      0\n",
       "2001      0\n",
       "2002      0\n",
       "2003      0\n",
       "2004      0\n",
       "2005      0\n",
       "2006      0\n",
       "2007      0\n",
       "2008      0\n",
       "2009      0\n",
       "2010      0\n",
       "2011      0\n",
       "2012      0\n",
       "2013      0\n",
       "2014      0\n",
       "2015      0\n",
       "2016      0\n",
       "2017      0\n",
       "dtype: int64"
      ]
     },
     "execution_count": 257,
     "metadata": {},
     "output_type": "execute_result"
    }
   ],
   "source": [
    "# [3-1] 결측치 처리 처리\n",
    "dataDF.isna().sum()"
   ]
  },
  {
   "cell_type": "code",
   "execution_count": 258,
   "metadata": {},
   "outputs": [
    {
     "data": {
      "text/html": [
       "<div>\n",
       "<style scoped>\n",
       "    .dataframe tbody tr th:only-of-type {\n",
       "        vertical-align: middle;\n",
       "    }\n",
       "\n",
       "    .dataframe tbody tr th {\n",
       "        vertical-align: top;\n",
       "    }\n",
       "\n",
       "    .dataframe thead th {\n",
       "        text-align: right;\n",
       "    }\n",
       "</style>\n",
       "<table border=\"1\" class=\"dataframe\">\n",
       "  <thead>\n",
       "    <tr style=\"text-align: right;\">\n",
       "      <th></th>\n",
       "      <th>1984</th>\n",
       "      <th>1985</th>\n",
       "      <th>1986</th>\n",
       "    </tr>\n",
       "  </thead>\n",
       "  <tbody>\n",
       "    <tr>\n",
       "      <th>1</th>\n",
       "      <td>False</td>\n",
       "      <td>False</td>\n",
       "      <td>False</td>\n",
       "    </tr>\n",
       "    <tr>\n",
       "      <th>2</th>\n",
       "      <td>False</td>\n",
       "      <td>False</td>\n",
       "      <td>False</td>\n",
       "    </tr>\n",
       "    <tr>\n",
       "      <th>3</th>\n",
       "      <td>False</td>\n",
       "      <td>False</td>\n",
       "      <td>False</td>\n",
       "    </tr>\n",
       "    <tr>\n",
       "      <th>4</th>\n",
       "      <td>False</td>\n",
       "      <td>False</td>\n",
       "      <td>False</td>\n",
       "    </tr>\n",
       "    <tr>\n",
       "      <th>5</th>\n",
       "      <td>False</td>\n",
       "      <td>False</td>\n",
       "      <td>False</td>\n",
       "    </tr>\n",
       "    <tr>\n",
       "      <th>...</th>\n",
       "      <td>...</td>\n",
       "      <td>...</td>\n",
       "      <td>...</td>\n",
       "    </tr>\n",
       "    <tr>\n",
       "      <th>320</th>\n",
       "      <td>False</td>\n",
       "      <td>False</td>\n",
       "      <td>False</td>\n",
       "    </tr>\n",
       "    <tr>\n",
       "      <th>321</th>\n",
       "      <td>False</td>\n",
       "      <td>False</td>\n",
       "      <td>False</td>\n",
       "    </tr>\n",
       "    <tr>\n",
       "      <th>322</th>\n",
       "      <td>False</td>\n",
       "      <td>False</td>\n",
       "      <td>False</td>\n",
       "    </tr>\n",
       "    <tr>\n",
       "      <th>323</th>\n",
       "      <td>False</td>\n",
       "      <td>False</td>\n",
       "      <td>False</td>\n",
       "    </tr>\n",
       "    <tr>\n",
       "      <th>324</th>\n",
       "      <td>False</td>\n",
       "      <td>False</td>\n",
       "      <td>False</td>\n",
       "    </tr>\n",
       "  </tbody>\n",
       "</table>\n",
       "<p>324 rows × 3 columns</p>\n",
       "</div>"
      ],
      "text/plain": [
       "      1984   1985   1986\n",
       "1    False  False  False\n",
       "2    False  False  False\n",
       "3    False  False  False\n",
       "4    False  False  False\n",
       "5    False  False  False\n",
       "..     ...    ...    ...\n",
       "320  False  False  False\n",
       "321  False  False  False\n",
       "322  False  False  False\n",
       "323  False  False  False\n",
       "324  False  False  False\n",
       "\n",
       "[324 rows x 3 columns]"
      ]
     },
     "execution_count": 258,
     "metadata": {},
     "output_type": "execute_result"
    }
   ],
   "source": [
    "dataDF[['1984','1985','1986']].isna()"
   ]
  },
  {
   "cell_type": "code",
   "execution_count": 259,
   "metadata": {},
   "outputs": [
    {
     "data": {
      "text/html": [
       "<div>\n",
       "<style scoped>\n",
       "    .dataframe tbody tr th:only-of-type {\n",
       "        vertical-align: middle;\n",
       "    }\n",
       "\n",
       "    .dataframe tbody tr th {\n",
       "        vertical-align: top;\n",
       "    }\n",
       "\n",
       "    .dataframe thead th {\n",
       "        text-align: right;\n",
       "    }\n",
       "</style>\n",
       "<table border=\"1\" class=\"dataframe\">\n",
       "  <thead>\n",
       "    <tr style=\"text-align: right;\">\n",
       "      <th></th>\n",
       "      <th>1984</th>\n",
       "      <th>1985</th>\n",
       "      <th>1986</th>\n",
       "    </tr>\n",
       "  </thead>\n",
       "  <tbody>\n",
       "    <tr>\n",
       "      <th>34</th>\n",
       "      <td>True</td>\n",
       "      <td>True</td>\n",
       "      <td>True</td>\n",
       "    </tr>\n",
       "    <tr>\n",
       "      <th>35</th>\n",
       "      <td>True</td>\n",
       "      <td>True</td>\n",
       "      <td>True</td>\n",
       "    </tr>\n",
       "    <tr>\n",
       "      <th>36</th>\n",
       "      <td>True</td>\n",
       "      <td>True</td>\n",
       "      <td>True</td>\n",
       "    </tr>\n",
       "  </tbody>\n",
       "</table>\n",
       "</div>"
      ],
      "text/plain": [
       "    1984  1985  1986\n",
       "34  True  True  True\n",
       "35  True  True  True\n",
       "36  True  True  True"
      ]
     },
     "execution_count": 259,
     "metadata": {},
     "output_type": "execute_result"
    }
   ],
   "source": [
    "# - '1984','1985','1986' 컬럼만 추출\n",
    "a = dataDF[['1984','1985','1986']].isna()\n",
    "a[a.sum(axis=1)>0]"
   ]
  },
  {
   "cell_type": "code",
   "execution_count": 260,
   "metadata": {},
   "outputs": [],
   "source": [
    "dataDF[['1984','1985','1986']] = dataDF[['1984','1985','1986']].fillna(0)"
   ]
  },
  {
   "cell_type": "code",
   "execution_count": 261,
   "metadata": {},
   "outputs": [],
   "source": [
    "dataDF['전출지별'] =dataDF['전출지별'].ffill()"
   ]
  },
  {
   "cell_type": "code",
   "execution_count": 262,
   "metadata": {},
   "outputs": [
    {
     "data": {
      "text/plain": [
       "전출지별    0\n",
       "전입지별    0\n",
       "1970    0\n",
       "1971    0\n",
       "1972    0\n",
       "1973    0\n",
       "1974    0\n",
       "1975    0\n",
       "1976    0\n",
       "1977    0\n",
       "1978    0\n",
       "1979    0\n",
       "1980    0\n",
       "1981    0\n",
       "1982    0\n",
       "1983    0\n",
       "1984    0\n",
       "1985    0\n",
       "1986    0\n",
       "1987    0\n",
       "1988    0\n",
       "1989    0\n",
       "1990    0\n",
       "1991    0\n",
       "1992    0\n",
       "1993    0\n",
       "1994    0\n",
       "1995    0\n",
       "1996    0\n",
       "1997    0\n",
       "1998    0\n",
       "1999    0\n",
       "2000    0\n",
       "2001    0\n",
       "2002    0\n",
       "2003    0\n",
       "2004    0\n",
       "2005    0\n",
       "2006    0\n",
       "2007    0\n",
       "2008    0\n",
       "2009    0\n",
       "2010    0\n",
       "2011    0\n",
       "2012    0\n",
       "2013    0\n",
       "2014    0\n",
       "2015    0\n",
       "2016    0\n",
       "2017    0\n",
       "dtype: int64"
      ]
     },
     "execution_count": 262,
     "metadata": {},
     "output_type": "execute_result"
    }
   ],
   "source": [
    "dataDF.isna().sum()"
   ]
  },
  {
   "cell_type": "code",
   "execution_count": 263,
   "metadata": {},
   "outputs": [
    {
     "data": {
      "text/html": [
       "<div>\n",
       "<style scoped>\n",
       "    .dataframe tbody tr th:only-of-type {\n",
       "        vertical-align: middle;\n",
       "    }\n",
       "\n",
       "    .dataframe tbody tr th {\n",
       "        vertical-align: top;\n",
       "    }\n",
       "\n",
       "    .dataframe thead th {\n",
       "        text-align: right;\n",
       "    }\n",
       "</style>\n",
       "<table border=\"1\" class=\"dataframe\">\n",
       "  <thead>\n",
       "    <tr style=\"text-align: right;\">\n",
       "      <th></th>\n",
       "      <th>1984</th>\n",
       "      <th>1985</th>\n",
       "      <th>1986</th>\n",
       "    </tr>\n",
       "  </thead>\n",
       "  <tbody>\n",
       "  </tbody>\n",
       "</table>\n",
       "</div>"
      ],
      "text/plain": [
       "Empty DataFrame\n",
       "Columns: [1984, 1985, 1986]\n",
       "Index: []"
      ]
     },
     "execution_count": 263,
     "metadata": {},
     "output_type": "execute_result"
    }
   ],
   "source": [
    "a = dataDF[['1984','1985','1986']].isna()\n",
    "a[a.sum(axis=1)>0]"
   ]
  },
  {
   "cell_type": "code",
   "execution_count": 264,
   "metadata": {},
   "outputs": [
    {
     "data": {
      "text/html": [
       "<div>\n",
       "<style scoped>\n",
       "    .dataframe tbody tr th:only-of-type {\n",
       "        vertical-align: middle;\n",
       "    }\n",
       "\n",
       "    .dataframe tbody tr th {\n",
       "        vertical-align: top;\n",
       "    }\n",
       "\n",
       "    .dataframe thead th {\n",
       "        text-align: right;\n",
       "    }\n",
       "</style>\n",
       "<table border=\"1\" class=\"dataframe\">\n",
       "  <thead>\n",
       "    <tr style=\"text-align: right;\">\n",
       "      <th></th>\n",
       "      <th>전출지별</th>\n",
       "      <th>전입지별</th>\n",
       "      <th>1970</th>\n",
       "      <th>1971</th>\n",
       "      <th>1972</th>\n",
       "      <th>1973</th>\n",
       "      <th>1974</th>\n",
       "      <th>1975</th>\n",
       "      <th>1976</th>\n",
       "      <th>1977</th>\n",
       "      <th>...</th>\n",
       "      <th>2008</th>\n",
       "      <th>2009</th>\n",
       "      <th>2010</th>\n",
       "      <th>2011</th>\n",
       "      <th>2012</th>\n",
       "      <th>2013</th>\n",
       "      <th>2014</th>\n",
       "      <th>2015</th>\n",
       "      <th>2016</th>\n",
       "      <th>2017</th>\n",
       "    </tr>\n",
       "  </thead>\n",
       "  <tbody>\n",
       "    <tr>\n",
       "      <th>1</th>\n",
       "      <td>전국</td>\n",
       "      <td>전국</td>\n",
       "      <td>4046536</td>\n",
       "      <td>4210164</td>\n",
       "      <td>3687938</td>\n",
       "      <td>4860418</td>\n",
       "      <td>5297969</td>\n",
       "      <td>9011440</td>\n",
       "      <td>6773250</td>\n",
       "      <td>7397623</td>\n",
       "      <td>...</td>\n",
       "      <td>8808256</td>\n",
       "      <td>8487275</td>\n",
       "      <td>8226594</td>\n",
       "      <td>8127195</td>\n",
       "      <td>7506691</td>\n",
       "      <td>7411784</td>\n",
       "      <td>7629098</td>\n",
       "      <td>7755286</td>\n",
       "      <td>7378430</td>\n",
       "      <td>7154226</td>\n",
       "    </tr>\n",
       "    <tr>\n",
       "      <th>2</th>\n",
       "      <td>전국</td>\n",
       "      <td>서울특별시</td>\n",
       "      <td>1742813</td>\n",
       "      <td>1671705</td>\n",
       "      <td>1349333</td>\n",
       "      <td>1831858</td>\n",
       "      <td>2050392</td>\n",
       "      <td>3396662</td>\n",
       "      <td>2756510</td>\n",
       "      <td>2893403</td>\n",
       "      <td>...</td>\n",
       "      <td>2025358</td>\n",
       "      <td>1873188</td>\n",
       "      <td>1733015</td>\n",
       "      <td>1721748</td>\n",
       "      <td>1555281</td>\n",
       "      <td>1520090</td>\n",
       "      <td>1573594</td>\n",
       "      <td>1589431</td>\n",
       "      <td>1515602</td>\n",
       "      <td>1472937</td>\n",
       "    </tr>\n",
       "    <tr>\n",
       "      <th>3</th>\n",
       "      <td>전국</td>\n",
       "      <td>부산광역시</td>\n",
       "      <td>448577</td>\n",
       "      <td>389797</td>\n",
       "      <td>362202</td>\n",
       "      <td>482061</td>\n",
       "      <td>680984</td>\n",
       "      <td>805979</td>\n",
       "      <td>724664</td>\n",
       "      <td>785117</td>\n",
       "      <td>...</td>\n",
       "      <td>514502</td>\n",
       "      <td>519310</td>\n",
       "      <td>519334</td>\n",
       "      <td>508043</td>\n",
       "      <td>461042</td>\n",
       "      <td>478451</td>\n",
       "      <td>485710</td>\n",
       "      <td>507031</td>\n",
       "      <td>459015</td>\n",
       "      <td>439073</td>\n",
       "    </tr>\n",
       "    <tr>\n",
       "      <th>4</th>\n",
       "      <td>전국</td>\n",
       "      <td>대구광역시</td>\n",
       "      <td>-</td>\n",
       "      <td>-</td>\n",
       "      <td>-</td>\n",
       "      <td>-</td>\n",
       "      <td>-</td>\n",
       "      <td>-</td>\n",
       "      <td>-</td>\n",
       "      <td>-</td>\n",
       "      <td>...</td>\n",
       "      <td>409938</td>\n",
       "      <td>398626</td>\n",
       "      <td>370817</td>\n",
       "      <td>370563</td>\n",
       "      <td>348642</td>\n",
       "      <td>351873</td>\n",
       "      <td>350213</td>\n",
       "      <td>351424</td>\n",
       "      <td>328228</td>\n",
       "      <td>321182</td>\n",
       "    </tr>\n",
       "    <tr>\n",
       "      <th>5</th>\n",
       "      <td>전국</td>\n",
       "      <td>인천광역시</td>\n",
       "      <td>-</td>\n",
       "      <td>-</td>\n",
       "      <td>-</td>\n",
       "      <td>-</td>\n",
       "      <td>-</td>\n",
       "      <td>-</td>\n",
       "      <td>-</td>\n",
       "      <td>-</td>\n",
       "      <td>...</td>\n",
       "      <td>565585</td>\n",
       "      <td>478169</td>\n",
       "      <td>462051</td>\n",
       "      <td>499567</td>\n",
       "      <td>468666</td>\n",
       "      <td>461613</td>\n",
       "      <td>452297</td>\n",
       "      <td>473223</td>\n",
       "      <td>441646</td>\n",
       "      <td>409465</td>\n",
       "    </tr>\n",
       "  </tbody>\n",
       "</table>\n",
       "<p>5 rows × 50 columns</p>\n",
       "</div>"
      ],
      "text/plain": [
       "  전출지별   전입지별     1970     1971     1972     1973     1974     1975     1976  \\\n",
       "1   전국     전국  4046536  4210164  3687938  4860418  5297969  9011440  6773250   \n",
       "2   전국  서울특별시  1742813  1671705  1349333  1831858  2050392  3396662  2756510   \n",
       "3   전국  부산광역시   448577   389797   362202   482061   680984   805979   724664   \n",
       "4   전국  대구광역시        -        -        -        -        -        -        -   \n",
       "5   전국  인천광역시        -        -        -        -        -        -        -   \n",
       "\n",
       "      1977  ...     2008     2009     2010     2011     2012     2013  \\\n",
       "1  7397623  ...  8808256  8487275  8226594  8127195  7506691  7411784   \n",
       "2  2893403  ...  2025358  1873188  1733015  1721748  1555281  1520090   \n",
       "3   785117  ...   514502   519310   519334   508043   461042   478451   \n",
       "4        -  ...   409938   398626   370817   370563   348642   351873   \n",
       "5        -  ...   565585   478169   462051   499567   468666   461613   \n",
       "\n",
       "      2014     2015     2016     2017  \n",
       "1  7629098  7755286  7378430  7154226  \n",
       "2  1573594  1589431  1515602  1472937  \n",
       "3   485710   507031   459015   439073  \n",
       "4   350213   351424   328228   321182  \n",
       "5   452297   473223   441646   409465  \n",
       "\n",
       "[5 rows x 50 columns]"
      ]
     },
     "execution_count": 264,
     "metadata": {},
     "output_type": "execute_result"
    }
   ],
   "source": [
    "dataDF.head(5)"
   ]
  },
  {
   "cell_type": "code",
   "execution_count": 265,
   "metadata": {},
   "outputs": [
    {
     "name": "stderr",
     "output_type": "stream",
     "text": [
      "C:\\Users\\a\\AppData\\Local\\Temp\\ipykernel_3688\\747415053.py:2: FutureWarning: Downcasting behavior in `replace` is deprecated and will be removed in a future version. To retain the old behavior, explicitly call `result.infer_objects(copy=False)`. To opt-in to the future behavior, set `pd.set_option('future.no_silent_downcasting', True)`\n",
      "  dataDF.replace('-',0,inplace=True)\n"
     ]
    }
   ],
   "source": [
    "# [3-3] 이상치 처리 처리\n",
    "dataDF.replace('-',0,inplace=True)"
   ]
  },
  {
   "cell_type": "code",
   "execution_count": 266,
   "metadata": {},
   "outputs": [],
   "source": [
    "# [3-4] 자료형 변환 \n",
    "d_ = dict(zip(dataDF.columns[2:].to_list(),['int']*(dataDF.shape[1]-2)))\n",
    "dataDF = dataDF.astype(d_)"
   ]
  },
  {
   "cell_type": "code",
   "execution_count": 267,
   "metadata": {},
   "outputs": [
    {
     "data": {
      "text/plain": [
       "int32     48\n",
       "object     2\n",
       "Name: count, dtype: int64"
      ]
     },
     "execution_count": 267,
     "metadata": {},
     "output_type": "execute_result"
    }
   ],
   "source": [
    "dataDF.dtypes.value_counts()"
   ]
  },
  {
   "cell_type": "markdown",
   "metadata": {},
   "source": [
    "- [4] 데이터 가공\n",
    "    * 대구에서 전지역 전입 인구수 분석\n",
    "    * 전출지별 - '대구광역시'\n",
    "    * 전입지별 - '대구광역시','전국' 제외"
   ]
  },
  {
   "cell_type": "code",
   "execution_count": 268,
   "metadata": {},
   "outputs": [
    {
     "data": {
      "text/plain": [
       "<bound method DataFrame.info of      전출지별     전입지별  1970  1971  1972  1973  1974  1975  1976  1977  ...  \\\n",
       "55  대구광역시       전국     0     0     0     0     0     0     0     0  ...   \n",
       "56  대구광역시    서울특별시     0     0     0     0     0     0     0     0  ...   \n",
       "57  대구광역시    부산광역시     0     0     0     0     0     0     0     0  ...   \n",
       "58  대구광역시    대구광역시     0     0     0     0     0     0     0     0  ...   \n",
       "59  대구광역시    인천광역시     0     0     0     0     0     0     0     0  ...   \n",
       "60  대구광역시    광주광역시     0     0     0     0     0     0     0     0  ...   \n",
       "61  대구광역시    대전광역시     0     0     0     0     0     0     0     0  ...   \n",
       "62  대구광역시    울산광역시     0     0     0     0     0     0     0     0  ...   \n",
       "63  대구광역시  세종특별자치시     0     0     0     0     0     0     0     0  ...   \n",
       "64  대구광역시      경기도     0     0     0     0     0     0     0     0  ...   \n",
       "65  대구광역시      강원도     0     0     0     0     0     0     0     0  ...   \n",
       "66  대구광역시     충청북도     0     0     0     0     0     0     0     0  ...   \n",
       "67  대구광역시     충청남도     0     0     0     0     0     0     0     0  ...   \n",
       "68  대구광역시     전라북도     0     0     0     0     0     0     0     0  ...   \n",
       "69  대구광역시     전라남도     0     0     0     0     0     0     0     0  ...   \n",
       "70  대구광역시     경상북도     0     0     0     0     0     0     0     0  ...   \n",
       "71  대구광역시     경상남도     0     0     0     0     0     0     0     0  ...   \n",
       "72  대구광역시  제주특별자치도     0     0     0     0     0     0     0     0  ...   \n",
       "\n",
       "      2008    2009    2010    2011    2012    2013    2014    2015    2016  \\\n",
       "55  422676  411288  382657  383310  359206  363224  365739  364364  337488   \n",
       "56   14824   15469   13915   13310   13838   13673   13735   13038   12802   \n",
       "57    5066    5207    5050    4906    5216    5543    6157    5182    4860   \n",
       "58  311113  298755  274649  276495  254661  258107  252642  259185  240722   \n",
       "59    2125    2003    1968    2000    1979    2202    2015    1987    1962   \n",
       "60     563     624     527     577     711     622     902     629     547   \n",
       "61    2106    2057    1956    2063    2144    2219    2254    2085    1949   \n",
       "62    4283    3740    3551    3586    3844    3833    3835    3675    3266   \n",
       "63       0       0       0       0     261     233     526     879     642   \n",
       "64   13724   14534   14596   13320   13581   13659   12813   12322   11918   \n",
       "65    1996    1942    2039    1843    1807    1820    1884    1884    1748   \n",
       "66    1762    1880    1784    1849    1943    1958    2026    1957    1771   \n",
       "67    2717    2579    2730    2647    2706    2599    2682    2509    2323   \n",
       "68     970     935     860    1003     878     985     996     940     920   \n",
       "69     904    1012     985     947     977     948     985     953     907   \n",
       "70   48562   49288   47895   49300   44922   45035   51852   46900   41444   \n",
       "71   11343   10599    9521    8821    8965    8941    9374    8922    8313   \n",
       "72     618     664     631     643     773     847    1061    1317    1394   \n",
       "\n",
       "      2017  \n",
       "55  333118  \n",
       "56   13011  \n",
       "57    4840  \n",
       "58  236143  \n",
       "59    1930  \n",
       "60     515  \n",
       "61    1978  \n",
       "62    2604  \n",
       "63     827  \n",
       "64   12354  \n",
       "65    1657  \n",
       "66    1824  \n",
       "67    2578  \n",
       "68     911  \n",
       "69     897  \n",
       "70   41714  \n",
       "71    7704  \n",
       "72    1631  \n",
       "\n",
       "[18 rows x 50 columns]>"
      ]
     },
     "execution_count": 268,
     "metadata": {},
     "output_type": "execute_result"
    }
   ],
   "source": [
    "# - 대구광역시 데이터만 추출\n",
    "mask = (dataDF['전출지별']=='대구광역시')\n",
    "cityDF = dataDF[mask]\n",
    "cityDF.info"
   ]
  },
  {
   "cell_type": "code",
   "execution_count": 269,
   "metadata": {},
   "outputs": [],
   "source": [
    "cityDF = cityDF.drop('전출지별',axis=1)"
   ]
  },
  {
   "cell_type": "code",
   "execution_count": 270,
   "metadata": {},
   "outputs": [],
   "source": [
    "cityDF.set_index('전입지별',inplace=True)"
   ]
  },
  {
   "cell_type": "code",
   "execution_count": 271,
   "metadata": {},
   "outputs": [
    {
     "data": {
      "text/plain": [
       "Index(['전국', '서울특별시', '부산광역시', '대구광역시', '인천광역시', '광주광역시', '대전광역시', '울산광역시',\n",
       "       '세종특별자치시', '경기도', '강원도', '충청북도', '충청남도', '전라북도', '전라남도', '경상북도', '경상남도',\n",
       "       '제주특별자치도'],\n",
       "      dtype='object', name='전입지별')"
      ]
     },
     "execution_count": 271,
     "metadata": {},
     "output_type": "execute_result"
    }
   ],
   "source": [
    "cityDF.index"
   ]
  },
  {
   "cell_type": "code",
   "execution_count": 272,
   "metadata": {},
   "outputs": [],
   "source": [
    "cityDF.drop(['대구광역시','전국'],inplace=True)"
   ]
  },
  {
   "cell_type": "code",
   "execution_count": 273,
   "metadata": {},
   "outputs": [
    {
     "data": {
      "text/plain": [
       "<bound method DataFrame.value_counts of          1970  1971  1972  1973  1974  1975  1976  1977  1978  1979  ...  \\\n",
       "전입지별                                                                 ...   \n",
       "서울특별시       0     0     0     0     0     0     0     0     0     0  ...   \n",
       "부산광역시       0     0     0     0     0     0     0     0     0     0  ...   \n",
       "인천광역시       0     0     0     0     0     0     0     0     0     0  ...   \n",
       "광주광역시       0     0     0     0     0     0     0     0     0     0  ...   \n",
       "대전광역시       0     0     0     0     0     0     0     0     0     0  ...   \n",
       "울산광역시       0     0     0     0     0     0     0     0     0     0  ...   \n",
       "세종특별자치시     0     0     0     0     0     0     0     0     0     0  ...   \n",
       "경기도         0     0     0     0     0     0     0     0     0     0  ...   \n",
       "강원도         0     0     0     0     0     0     0     0     0     0  ...   \n",
       "충청북도        0     0     0     0     0     0     0     0     0     0  ...   \n",
       "충청남도        0     0     0     0     0     0     0     0     0     0  ...   \n",
       "전라북도        0     0     0     0     0     0     0     0     0     0  ...   \n",
       "전라남도        0     0     0     0     0     0     0     0     0     0  ...   \n",
       "경상북도        0     0     0     0     0     0     0     0     0     0  ...   \n",
       "경상남도        0     0     0     0     0     0     0     0     0     0  ...   \n",
       "제주특별자치도     0     0     0     0     0     0     0     0     0     0  ...   \n",
       "\n",
       "          2008   2009   2010   2011   2012   2013   2014   2015   2016   2017  \n",
       "전입지별                                                                           \n",
       "서울특별시    14824  15469  13915  13310  13838  13673  13735  13038  12802  13011  \n",
       "부산광역시     5066   5207   5050   4906   5216   5543   6157   5182   4860   4840  \n",
       "인천광역시     2125   2003   1968   2000   1979   2202   2015   1987   1962   1930  \n",
       "광주광역시      563    624    527    577    711    622    902    629    547    515  \n",
       "대전광역시     2106   2057   1956   2063   2144   2219   2254   2085   1949   1978  \n",
       "울산광역시     4283   3740   3551   3586   3844   3833   3835   3675   3266   2604  \n",
       "세종특별자치시      0      0      0      0    261    233    526    879    642    827  \n",
       "경기도      13724  14534  14596  13320  13581  13659  12813  12322  11918  12354  \n",
       "강원도       1996   1942   2039   1843   1807   1820   1884   1884   1748   1657  \n",
       "충청북도      1762   1880   1784   1849   1943   1958   2026   1957   1771   1824  \n",
       "충청남도      2717   2579   2730   2647   2706   2599   2682   2509   2323   2578  \n",
       "전라북도       970    935    860   1003    878    985    996    940    920    911  \n",
       "전라남도       904   1012    985    947    977    948    985    953    907    897  \n",
       "경상북도     48562  49288  47895  49300  44922  45035  51852  46900  41444  41714  \n",
       "경상남도     11343  10599   9521   8821   8965   8941   9374   8922   8313   7704  \n",
       "제주특별자치도    618    664    631    643    773    847   1061   1317   1394   1631  \n",
       "\n",
       "[16 rows x 48 columns]>"
      ]
     },
     "execution_count": 273,
     "metadata": {},
     "output_type": "execute_result"
    }
   ],
   "source": [
    "cityDF.value_counts"
   ]
  },
  {
   "cell_type": "markdown",
   "metadata": {},
   "source": [
    "- [5] 분석 : 대구에서 전지역 전입 인구수 분석"
   ]
  },
  {
   "cell_type": "code",
   "execution_count": 274,
   "metadata": {},
   "outputs": [],
   "source": [
    "# [5-1] 년도 상관없이 지역별 인구 이동 합계\n",
    "totalDF =  cityDF.sum(axis =1)"
   ]
  },
  {
   "cell_type": "code",
   "execution_count": 275,
   "metadata": {},
   "outputs": [],
   "source": [
    "# [5-2] 두가지 데이터 프레임으로 분류\n",
    "city1= totalDF['서울특별시':'세종특별자치시']\n",
    "city2 = totalDF['경기도':'제주특별자치도']"
   ]
  },
  {
   "cell_type": "code",
   "execution_count": 283,
   "metadata": {},
   "outputs": [],
   "source": [
    "# 폰트지정\n",
    "def set_customFont(font_path):\n",
    "    from matplotlib import font_manager as fm,rc\n",
    " \n",
    "# 폰트 패밀리 이름 가져오기\n",
    "    font_name = fm.FontProperties(fname = font_path).get_name()\n",
    "\n",
    "# 새로운 폰트 패밀리 이름 지정\n",
    "    rc('font',family = font_name)\n",
    "\n",
    "set_customFont(r'C:\\Windows\\Fonts\\malgunbd.ttf')"
   ]
  },
  {
   "cell_type": "code",
   "execution_count": 296,
   "metadata": {},
   "outputs": [],
   "source": [
    "# [5-3] 그래프 그리기 함수\n",
    "def show(data):\n",
    "    color_list=['b','r','g','y','k','b','r','g','y']\n",
    "    plt.figure()\n",
    "    plt.bar(data.index,data,width = 0.5,color = color_list,label = data.index)\n",
    "    plt.legend()\n",
    "    plt.xticks(rotation =45)\n",
    "    plt.show()"
   ]
  },
  {
   "cell_type": "code",
   "execution_count": 297,
   "metadata": {},
   "outputs": [
    {
     "data": {
      "image/png": "[encoded data removed]",
      "text/plain": [
       "<Figure size 640x480 with 1 Axes>"
      ]
     },
     "metadata": {},
     "output_type": "display_data"
    }
   ],
   "source": [
    "# [5-4] 특별시 불러오기\n",
    "show(city1)"
   ]
  },
  {
   "cell_type": "code",
   "execution_count": 298,
   "metadata": {},
   "outputs": [
    {
     "data": {
      "image/png": "[encoded data removed]",
      "text/plain": [
       "<Figure size 640x480 with 1 Axes>"
      ]
     },
     "metadata": {},
     "output_type": "display_data"
    }
   ],
   "source": [
    "# [5-4] 도별 데이터 보기\n",
    "show(city2)"
   ]
  },
  {
   "cell_type": "code",
   "execution_count": 288,
   "metadata": {},
   "outputs": [
    {
     "data": {
      "image/png": "[encoded data removed]",
      "text/plain": [
       "<Figure size 640x480 with 1 Axes>"
      ]
     },
     "metadata": {},
     "output_type": "display_data"
    }
   ],
   "source": [
    "color_list=['b','r','g','y','k','b','r']\n",
    "plt.figure()\n",
    "plt.bar(city1.index,city1,width = 0.5,color = color_list,label = city1.index)\n",
    "plt.legend()\n",
    "plt.xticks(rotation =45)\n",
    "plt.show()"
   ]
  },
  {
   "cell_type": "code",
   "execution_count": 294,
   "metadata": {},
   "outputs": [
    {
     "data": {
      "image/png": "[encoded data removed]",
      "text/plain": [
       "<Figure size 640x480 with 1 Axes>"
      ]
     },
     "metadata": {},
     "output_type": "display_data"
    }
   ],
   "source": [
    "color_list=['b','r','g','y','k','b','r','g','y']\n",
    "plt.figure()\n",
    "plt.bar(city2.index,city2,width = 0.5,color = color_list,label = city2.index)\n",
    "plt.legend()\n",
    "plt.xticks(rotation =45)\n",
    "plt.show()"
   ]
  },
  {
   "cell_type": "code",
   "execution_count": null,
   "metadata": {},
   "outputs": [],
   "source": []
  },
  {
   "cell_type": "code",
   "execution_count": null,
   "metadata": {},
   "outputs": [],
   "source": []
  }
 ],
 "metadata": {
  "kernelspec": {
   "display_name": "py_39",
   "language": "python",
   "name": "python3"
  },
  "language_info": {
   "codemirror_mode": {
    "name": "ipython",
    "version": 3
   },
   "file_extension": ".py",
   "mimetype": "text/x-python",
   "name": "python",
   "nbconvert_exporter": "python",
   "pygments_lexer": "ipython3",
   "version": "3.9.19"
  }
 },
 "nbformat": 4,
 "nbformat_minor": 2
}
